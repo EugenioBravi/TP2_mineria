{
 "cells": [
  {
   "cell_type": "markdown",
   "metadata": {},
   "source": [
    "# Trabajo practico Nº2\n",
    "### Mineria de datos - TUIA\n",
    "### 08/11/2024\n",
    "#### Integrantes:\n",
    "Bravi Eugenio B-6600/1\n",
    "\n",
    "Nemeth Ulises N-1249/1"
   ]
  }
 ],
 "metadata": {
  "language_info": {
   "name": "python"
  }
 },
 "nbformat": 4,
 "nbformat_minor": 2
}
